{
 "cells": [
  {
   "cell_type": "code",
   "execution_count": 1,
   "id": "335b840b-efb7-47ce-b58d-6261998d7afe",
   "metadata": {},
   "outputs": [],
   "source": [
    "import pandahouse\n",
    "import pandas as pd\n",
    "\n",
    "import seaborn as sns\n",
    "import matplotlib.pyplot as plt\n",
    "import numpy as np\n",
    "\n",
    "import hashlib\n",
    "\n",
    "import swifter\n",
    "\n",
    "from scipy. stats import ttest_ind"
   ]
  },
  {
   "cell_type": "markdown",
   "id": "26081ab4-392f-441f-93ce-8b740d3e67d5",
   "metadata": {},
   "source": [
    "Загрузим данные из clickhouse:"
   ]
  },
  {
   "cell_type": "code",
   "execution_count": 2,
   "id": "d7ac53fc-b40f-4886-bda2-3acf35b9f46b",
   "metadata": {},
   "outputs": [],
   "source": [
    "connection = {\n",
    "    'host': 'https://clickhouse.lab.karpov.courses',\n",
    "    'database':'simulator_20240120',\n",
    "    'user':'student',\n",
    "    'password':'dpo_python_2020'\n",
    "}\n",
    "\n",
    "query = '''\n",
    "select user_id,\n",
    "    exp_group,\n",
    "    sum(action = 'like') as likes,\n",
    "    sum(action = 'view') as views,\n",
    "    likes/views as ctr\n",
    "from {db}.feed_actions\n",
    "where (toDate(time) >= '2023-12-22' and toDate(time) <= '2023-12-28') and (exp_group IN [2, 3])\n",
    "group by exp_group, user_id\n",
    "'''\n",
    "\n",
    "df = pandahouse.read_clickhouse(query, connection=connection)"
   ]
  },
  {
   "cell_type": "code",
   "execution_count": 3,
   "id": "f84dcc8b-dc23-4a44-8675-5e6ade1b65f6",
   "metadata": {},
   "outputs": [
    {
     "data": {
      "text/html": [
       "<div>\n",
       "<style scoped>\n",
       "    .dataframe tbody tr th:only-of-type {\n",
       "        vertical-align: middle;\n",
       "    }\n",
       "\n",
       "    .dataframe tbody tr th {\n",
       "        vertical-align: top;\n",
       "    }\n",
       "\n",
       "    .dataframe thead th {\n",
       "        text-align: right;\n",
       "    }\n",
       "</style>\n",
       "<table border=\"1\" class=\"dataframe\">\n",
       "  <thead>\n",
       "    <tr style=\"text-align: right;\">\n",
       "      <th></th>\n",
       "      <th>user_id</th>\n",
       "      <th>exp_group</th>\n",
       "      <th>likes</th>\n",
       "      <th>views</th>\n",
       "      <th>ctr</th>\n",
       "    </tr>\n",
       "  </thead>\n",
       "  <tbody>\n",
       "    <tr>\n",
       "      <th>0</th>\n",
       "      <td>115383</td>\n",
       "      <td>3</td>\n",
       "      <td>38</td>\n",
       "      <td>248</td>\n",
       "      <td>0.153226</td>\n",
       "    </tr>\n",
       "    <tr>\n",
       "      <th>1</th>\n",
       "      <td>10326</td>\n",
       "      <td>3</td>\n",
       "      <td>24</td>\n",
       "      <td>132</td>\n",
       "      <td>0.181818</td>\n",
       "    </tr>\n",
       "    <tr>\n",
       "      <th>2</th>\n",
       "      <td>123580</td>\n",
       "      <td>3</td>\n",
       "      <td>25</td>\n",
       "      <td>122</td>\n",
       "      <td>0.204918</td>\n",
       "    </tr>\n",
       "    <tr>\n",
       "      <th>3</th>\n",
       "      <td>131473</td>\n",
       "      <td>2</td>\n",
       "      <td>19</td>\n",
       "      <td>98</td>\n",
       "      <td>0.193878</td>\n",
       "    </tr>\n",
       "    <tr>\n",
       "      <th>4</th>\n",
       "      <td>23985</td>\n",
       "      <td>2</td>\n",
       "      <td>12</td>\n",
       "      <td>44</td>\n",
       "      <td>0.272727</td>\n",
       "    </tr>\n",
       "  </tbody>\n",
       "</table>\n",
       "</div>"
      ],
      "text/plain": [
       "   user_id  exp_group  likes  views       ctr\n",
       "0   115383          3     38    248  0.153226\n",
       "1    10326          3     24    132  0.181818\n",
       "2   123580          3     25    122  0.204918\n",
       "3   131473          2     19     98  0.193878\n",
       "4    23985          2     12     44  0.272727"
      ]
     },
     "execution_count": 3,
     "metadata": {},
     "output_type": "execute_result"
    }
   ],
   "source": [
    "df.head()"
   ]
  },
  {
   "cell_type": "code",
   "execution_count": 4,
   "id": "55b75a4d-e7e3-44bc-adbb-76cc16a8ef7b",
   "metadata": {},
   "outputs": [
    {
     "data": {
      "text/plain": [
       "16787"
      ]
     },
     "execution_count": 4,
     "metadata": {},
     "output_type": "execute_result"
    }
   ],
   "source": [
    "df.user_id.nunique()"
   ]
  },
  {
   "cell_type": "code",
   "execution_count": 5,
   "id": "f6b88f0b-5bd9-44d9-849e-55d038e89a8f",
   "metadata": {},
   "outputs": [
    {
     "data": {
      "text/plain": [
       "exp_group\n",
       "2    8362\n",
       "3    8425\n",
       "Name: user_id, dtype: int64"
      ]
     },
     "execution_count": 5,
     "metadata": {},
     "output_type": "execute_result"
    }
   ],
   "source": [
    "df.groupby('exp_group')['user_id'].nunique()"
   ]
  },
  {
   "cell_type": "markdown",
   "id": "21784d8d-0b74-46a1-adad-b5830ba2aef6",
   "metadata": {},
   "source": [
    "Всего у нас в двух экспериментальных группах 16787 пользователей, в каждой из них примерно одинаковое количество: во 2 - 8362, в 3 - 8425."
   ]
  },
  {
   "cell_type": "markdown",
   "id": "24a37538-d9e7-4999-b0ea-d64540c37f77",
   "metadata": {},
   "source": [
    "Разобьем наш датафрейм на 2:"
   ]
  },
  {
   "cell_type": "code",
   "execution_count": 6,
   "id": "f0aa22fa-0377-43b1-b5f1-4b0783f2d501",
   "metadata": {},
   "outputs": [],
   "source": [
    "group_1 = df[df['exp_group']==2]\n",
    "group_2 = df[df['exp_group']==3]"
   ]
  },
  {
   "cell_type": "code",
   "execution_count": 7,
   "id": "47c13e21-45b7-4fca-b1c1-7f6ff54eca4f",
   "metadata": {},
   "outputs": [
    {
     "data": {
      "text/html": [
       "<div>\n",
       "<style scoped>\n",
       "    .dataframe tbody tr th:only-of-type {\n",
       "        vertical-align: middle;\n",
       "    }\n",
       "\n",
       "    .dataframe tbody tr th {\n",
       "        vertical-align: top;\n",
       "    }\n",
       "\n",
       "    .dataframe thead th {\n",
       "        text-align: right;\n",
       "    }\n",
       "</style>\n",
       "<table border=\"1\" class=\"dataframe\">\n",
       "  <thead>\n",
       "    <tr style=\"text-align: right;\">\n",
       "      <th></th>\n",
       "      <th>user_id</th>\n",
       "      <th>exp_group</th>\n",
       "      <th>likes</th>\n",
       "      <th>views</th>\n",
       "      <th>ctr</th>\n",
       "    </tr>\n",
       "  </thead>\n",
       "  <tbody>\n",
       "    <tr>\n",
       "      <th>3</th>\n",
       "      <td>131473</td>\n",
       "      <td>2</td>\n",
       "      <td>19</td>\n",
       "      <td>98</td>\n",
       "      <td>0.193878</td>\n",
       "    </tr>\n",
       "    <tr>\n",
       "      <th>4</th>\n",
       "      <td>23985</td>\n",
       "      <td>2</td>\n",
       "      <td>12</td>\n",
       "      <td>44</td>\n",
       "      <td>0.272727</td>\n",
       "    </tr>\n",
       "    <tr>\n",
       "      <th>5</th>\n",
       "      <td>24523</td>\n",
       "      <td>2</td>\n",
       "      <td>2</td>\n",
       "      <td>10</td>\n",
       "      <td>0.200000</td>\n",
       "    </tr>\n",
       "  </tbody>\n",
       "</table>\n",
       "</div>"
      ],
      "text/plain": [
       "   user_id  exp_group  likes  views       ctr\n",
       "3   131473          2     19     98  0.193878\n",
       "4    23985          2     12     44  0.272727\n",
       "5    24523          2      2     10  0.200000"
      ]
     },
     "execution_count": 7,
     "metadata": {},
     "output_type": "execute_result"
    }
   ],
   "source": [
    "group_1.head(3)"
   ]
  },
  {
   "cell_type": "code",
   "execution_count": 8,
   "id": "4791a2da-29fa-4544-9a38-333ffabb99b9",
   "metadata": {},
   "outputs": [
    {
     "data": {
      "text/html": [
       "<div>\n",
       "<style scoped>\n",
       "    .dataframe tbody tr th:only-of-type {\n",
       "        vertical-align: middle;\n",
       "    }\n",
       "\n",
       "    .dataframe tbody tr th {\n",
       "        vertical-align: top;\n",
       "    }\n",
       "\n",
       "    .dataframe thead th {\n",
       "        text-align: right;\n",
       "    }\n",
       "</style>\n",
       "<table border=\"1\" class=\"dataframe\">\n",
       "  <thead>\n",
       "    <tr style=\"text-align: right;\">\n",
       "      <th></th>\n",
       "      <th>user_id</th>\n",
       "      <th>exp_group</th>\n",
       "      <th>likes</th>\n",
       "      <th>views</th>\n",
       "      <th>ctr</th>\n",
       "    </tr>\n",
       "  </thead>\n",
       "  <tbody>\n",
       "    <tr>\n",
       "      <th>0</th>\n",
       "      <td>115383</td>\n",
       "      <td>3</td>\n",
       "      <td>38</td>\n",
       "      <td>248</td>\n",
       "      <td>0.153226</td>\n",
       "    </tr>\n",
       "    <tr>\n",
       "      <th>1</th>\n",
       "      <td>10326</td>\n",
       "      <td>3</td>\n",
       "      <td>24</td>\n",
       "      <td>132</td>\n",
       "      <td>0.181818</td>\n",
       "    </tr>\n",
       "    <tr>\n",
       "      <th>2</th>\n",
       "      <td>123580</td>\n",
       "      <td>3</td>\n",
       "      <td>25</td>\n",
       "      <td>122</td>\n",
       "      <td>0.204918</td>\n",
       "    </tr>\n",
       "  </tbody>\n",
       "</table>\n",
       "</div>"
      ],
      "text/plain": [
       "   user_id  exp_group  likes  views       ctr\n",
       "0   115383          3     38    248  0.153226\n",
       "1    10326          3     24    132  0.181818\n",
       "2   123580          3     25    122  0.204918"
      ]
     },
     "execution_count": 8,
     "metadata": {},
     "output_type": "execute_result"
    }
   ],
   "source": [
    "group_2.head(3)"
   ]
  },
  {
   "cell_type": "markdown",
   "id": "93ecdb24-d5b2-400f-9c3b-38415dc50578",
   "metadata": {},
   "source": [
    "Зададим массив значений p-values, которые получим в цикле. Для этого сформируем подвыборки без повторений в 500 юзеров из нужных нам групп (2 и 3)."
   ]
  },
  {
   "cell_type": "code",
   "execution_count": 9,
   "id": "f3004978-73ca-4cbd-83ac-5083fa3420a4",
   "metadata": {},
   "outputs": [],
   "source": [
    "p_values = []"
   ]
  },
  {
   "cell_type": "code",
   "execution_count": 10,
   "id": "4077e45f-609f-454a-bc8d-9e60cd515859",
   "metadata": {},
   "outputs": [],
   "source": [
    "for i in range(10000):\n",
    "    \n",
    "    group_1_new = group_1.ctr.sample(500, replace=False)\n",
    "    group_2_new = group_2.ctr.sample(500, replace=False)\n",
    "    p_value = ttest_ind(group_1_new, group_2_new, equal_var=False)[1]\n",
    "    p_values.append(p_value)\n",
    "\n",
    "p_values = pd.Series(p_values)"
   ]
  },
  {
   "cell_type": "code",
   "execution_count": 11,
   "id": "e334982b-06a8-4ca6-be64-b1b7419fe9f0",
   "metadata": {},
   "outputs": [
    {
     "data": {
      "text/plain": [
       "0    0.741211\n",
       "1    0.653876\n",
       "2    0.884399\n",
       "3    0.461495\n",
       "4    0.473062\n",
       "dtype: float64"
      ]
     },
     "execution_count": 11,
     "metadata": {},
     "output_type": "execute_result"
    }
   ],
   "source": [
    "p_values.head()"
   ]
  },
  {
   "cell_type": "markdown",
   "id": "422d97c9-fd19-460e-ab73-7c6294a05519",
   "metadata": {},
   "source": [
    "Построим гистограмму распределения получившихся 10000 p-values:"
   ]
  },
  {
   "cell_type": "code",
   "execution_count": 12,
   "id": "966a0dbd-c392-468c-8354-4239ff2a5262",
   "metadata": {},
   "outputs": [
    {
     "data": {
      "image/png": "[encoded data removed]",
      "text/plain": [
       "<Figure size 432x288 with 1 Axes>"
      ]
     },
     "metadata": {
      "needs_background": "light"
     },
     "output_type": "display_data"
    }
   ],
   "source": [
    "sns.histplot(p_values)\n",
    "plt.title('График распределения p-value')\n",
    "plt.show()"
   ]
  },
  {
   "cell_type": "markdown",
   "id": "83eaf2ad-4941-4cc2-bed9-f759788fed2d",
   "metadata": {},
   "source": [
    "По графику видно, что распределение равномерно, нет каких-либо сильных отклонений."
   ]
  },
  {
   "cell_type": "markdown",
   "id": "f0d86517-55a0-4cea-83d0-22e725363635",
   "metadata": {},
   "source": [
    "Посчитаем, какой процент p-value оказался меньше либо равен 0.05:"
   ]
  },
  {
   "cell_type": "code",
   "execution_count": 13,
   "id": "0f73ba19-72e8-4b92-8395-503d0b7a4451",
   "metadata": {},
   "outputs": [
    {
     "data": {
      "text/plain": [
       "4.72"
      ]
     },
     "execution_count": 13,
     "metadata": {},
     "output_type": "execute_result"
    }
   ],
   "source": [
    "p_values[p_values <= 0.05].count() / p_values.count() * 100"
   ]
  },
  {
   "cell_type": "markdown",
   "id": "54f791a9-4d46-46e5-9dbf-c9f5ff78dd90",
   "metadata": {},
   "source": [
    "Всего в 4.75% случаем p-value оказывается меньше либо равен 0.05."
   ]
  },
  {
   "cell_type": "markdown",
   "id": "15d0b146-50bc-4bc2-a217-2e91c4a8b628",
   "metadata": {},
   "source": [
    "**Вывод:**  \n",
    "Мы провели симуляцию 10000 А/А-тестов с данными из двух экспериментальных групп (2 и 3) за период с 22 по 28 декабря 2023. На каждой итерации были сформированы выборки по 500 уникальных пользователей. Сравнив эти подвыборки t-тестом, можно сделать вывод, что наша система сплитования работает корректно, ключевая метрика (ctr) в целом не отличается между группами."
   ]
  }
 ],
 "metadata": {
  "kernelspec": {
   "display_name": "Python 3 (ipykernel)",
   "language": "python",
   "name": "python3"
  },
  "language_info": {
   "codemirror_mode": {
    "name": "ipython",
    "version": 3
   },
   "file_extension": ".py",
   "mimetype": "text/x-python",
   "name": "python",
   "nbconvert_exporter": "python",
   "pygments_lexer": "ipython3",
   "version": "3.8.10"
  }
 },
 "nbformat": 4,
 "nbformat_minor": 5
}
